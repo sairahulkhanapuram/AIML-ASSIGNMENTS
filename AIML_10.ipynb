{
  "nbformat": 4,
  "nbformat_minor": 0,
  "metadata": {
    "colab": {
      "provenance": [],
      "include_colab_link": true
    },
    "kernelspec": {
      "name": "python3",
      "display_name": "Python 3"
    },
    "language_info": {
      "name": "python"
    }
  },
  "cells": [
    {
      "cell_type": "markdown",
      "metadata": {
        "id": "view-in-github",
        "colab_type": "text"
      },
      "source": [
        "<a href=\"https://colab.research.google.com/github/sairahulkhanapuram/AIML-ASSIGNMENTS/blob/main/AIML_10.ipynb\" target=\"_parent\"><img src=\"https://colab.research.google.com/assets/colab-badge.svg\" alt=\"Open In Colab\"/></a>"
      ]
    },
    {
      "cell_type": "code",
      "execution_count": 1,
      "metadata": {
        "id": "QtKEzpxR1rfH",
        "colab": {
          "base_uri": "https://localhost:8080/"
        },
        "outputId": "8188a954-9a9c-40bd-d568-960e3dfdd53a"
      },
      "outputs": [
        {
          "output_type": "stream",
          "name": "stdout",
          "text": [
            "     Age  Gender  Protein1  Protein2  Protein3  Protein4 Tumour_Stage  \\\n",
            "0     42  FEMALE  0.952560   2.15000  0.007972 -0.048340           II   \n",
            "1     54  FEMALE  0.000000   1.38020 -0.498030 -0.507320           II   \n",
            "2     63  FEMALE -0.523030   1.76400 -0.370190  0.010815           II   \n",
            "3     78  FEMALE -0.876180   0.12943 -0.370380  0.132190            I   \n",
            "4     42  FEMALE  0.226110   1.74910 -0.543970 -0.390210           II   \n",
            "..   ...     ...       ...       ...       ...       ...          ...   \n",
            "329   59  FEMALE  0.024598   1.40050  0.024751  0.280320           II   \n",
            "330   41  FEMALE  0.100120  -0.46547  0.472370 -0.523870            I   \n",
            "331   54  FEMALE  0.753820   1.64250 -0.332850  0.857860           II   \n",
            "332   74  FEMALE  0.972510   1.42680 -0.366570 -0.107820           II   \n",
            "333   66  FEMALE  0.286380   1.39980  0.318830  0.836050           II   \n",
            "\n",
            "                          Histology ER status PR status HER2 status  \\\n",
            "0     Infiltrating Ductal Carcinoma  Positive  Positive    Negative   \n",
            "1     Infiltrating Ductal Carcinoma  Positive  Positive    Negative   \n",
            "2     Infiltrating Ductal Carcinoma  Positive  Positive    Negative   \n",
            "3     Infiltrating Ductal Carcinoma  Positive  Positive    Negative   \n",
            "4     Infiltrating Ductal Carcinoma  Positive  Positive    Positive   \n",
            "..                              ...       ...       ...         ...   \n",
            "329   Infiltrating Ductal Carcinoma  Positive  Positive    Positive   \n",
            "330   Infiltrating Ductal Carcinoma  Positive  Positive    Positive   \n",
            "331   Infiltrating Ductal Carcinoma  Positive  Positive    Negative   \n",
            "332  Infiltrating Lobular Carcinoma  Positive  Positive    Negative   \n",
            "333   Infiltrating Ductal Carcinoma  Positive  Positive    Negative   \n",
            "\n",
            "                    Surgery_type Date_of_Surgery Date_of_Last_Visit  \\\n",
            "0                          Other       20-May-18          26-Aug-18   \n",
            "1                          Other       26-Apr-18          25-Jan-19   \n",
            "2                     Lumpectomy       24-Aug-18          08-Apr-20   \n",
            "3                          Other       16-Nov-18          28-Jul-20   \n",
            "4                     Lumpectomy       12-Dec-18          05-Jan-19   \n",
            "..                           ...             ...                ...   \n",
            "329                   Lumpectomy       15-Jan-19          27-Mar-20   \n",
            "330  Modified Radical Mastectomy       25-Jul-18          23-Apr-19   \n",
            "331            Simple Mastectomy       26-Mar-19          11-Oct-19   \n",
            "332                   Lumpectomy       26-Nov-18          05-Dec-18   \n",
            "333  Modified Radical Mastectomy       04-Feb-19          10-Aug-19   \n",
            "\n",
            "    Patient_Status  \n",
            "0            Alive  \n",
            "1             Dead  \n",
            "2            Alive  \n",
            "3            Alive  \n",
            "4            Alive  \n",
            "..             ...  \n",
            "329          Alive  \n",
            "330          Alive  \n",
            "331           Dead  \n",
            "332          Alive  \n",
            "333           Dead  \n",
            "\n",
            "[334 rows x 15 columns]\n"
          ]
        }
      ],
      "source": [
        "import pandas as pd\n",
        "import numpy as np\n",
        "d=pd.read_csv('/content/breast_cancer_survival.csv')\n",
        "print(d)"
      ]
    },
    {
      "cell_type": "code",
      "source": [
        "d['Gender'] = d['Gender'].map({'FEMALE': 0, 'MALE': 1})\n",
        "d['Tumour_Stage'] = d['Tumour_Stage'].map({'I': 1, 'II': 2, 'III': 3})\n",
        "d['Histology'] = d['Histology'].factorize()[0]\n",
        "d['ER status'] = d['ER status'].map({'Positive': 1, 'Negative': 0})\n",
        "d['PR status'] = d['PR status'].map({'Positive': 1, 'Negative': 0})\n",
        "d['HER2 status'] = d['HER2 status'].map({'Positive': 1, 'Negative': 0})\n",
        "d['Surgery_type'] = d['Surgery_type'].factorize()[0]\n",
        "d['Patient_Status'] = d['Patient_Status'].map({'Alive': 1, 'Dead': 0})\n",
        "d['Date_of_Surgery']=d['Date_of_Surgery'].map({'20-May-18':0,'26-Apr-18':1,'24-Aug-18':2,'16-Nov-18':3,'12-Dec-18':4,'15-Jan-19':5,'25-Jul-18':6,'26-Mar-19':7,'26-Nov-18':8,'04-Feb-19':9})\n",
        "d['Date_of_Last_Visit']=d['Date_of_Last_Visit'].map({'26-Aug-18':0,'25-Jan-19':1,'08-Apr-20':2,'28-Jul-20':3,'05-Jan-19':4,'27-Mar-20':5,'23-Apr-19':6,'11-Oct-19':7,'05-Dec-18':8,'10-Aug-19':9})\n",
        "print(d)"
      ],
      "metadata": {
        "colab": {
          "base_uri": "https://localhost:8080/"
        },
        "id": "IcScN8yt6bIV",
        "outputId": "338f7935-9dfb-4e0c-d33e-4de0ab029711"
      },
      "execution_count": 2,
      "outputs": [
        {
          "output_type": "stream",
          "name": "stdout",
          "text": [
            "     Age  Gender  Protein1  Protein2  Protein3  Protein4  Tumour_Stage  \\\n",
            "0     42       0  0.952560   2.15000  0.007972 -0.048340             2   \n",
            "1     54       0  0.000000   1.38020 -0.498030 -0.507320             2   \n",
            "2     63       0 -0.523030   1.76400 -0.370190  0.010815             2   \n",
            "3     78       0 -0.876180   0.12943 -0.370380  0.132190             1   \n",
            "4     42       0  0.226110   1.74910 -0.543970 -0.390210             2   \n",
            "..   ...     ...       ...       ...       ...       ...           ...   \n",
            "329   59       0  0.024598   1.40050  0.024751  0.280320             2   \n",
            "330   41       0  0.100120  -0.46547  0.472370 -0.523870             1   \n",
            "331   54       0  0.753820   1.64250 -0.332850  0.857860             2   \n",
            "332   74       0  0.972510   1.42680 -0.366570 -0.107820             2   \n",
            "333   66       0  0.286380   1.39980  0.318830  0.836050             2   \n",
            "\n",
            "     Histology  ER status  PR status  HER2 status  Surgery_type  \\\n",
            "0            0          1          1            0             0   \n",
            "1            0          1          1            0             0   \n",
            "2            0          1          1            0             1   \n",
            "3            0          1          1            0             0   \n",
            "4            0          1          1            1             1   \n",
            "..         ...        ...        ...          ...           ...   \n",
            "329          0          1          1            1             1   \n",
            "330          0          1          1            1             2   \n",
            "331          0          1          1            0             3   \n",
            "332          1          1          1            0             1   \n",
            "333          0          1          1            0             2   \n",
            "\n",
            "     Date_of_Surgery  Date_of_Last_Visit  Patient_Status  \n",
            "0                0.0                 0.0             1.0  \n",
            "1                1.0                 1.0             0.0  \n",
            "2                2.0                 2.0             1.0  \n",
            "3                3.0                 3.0             1.0  \n",
            "4                4.0                 4.0             1.0  \n",
            "..               ...                 ...             ...  \n",
            "329              5.0                 5.0             1.0  \n",
            "330              6.0                 6.0             1.0  \n",
            "331              7.0                 7.0             0.0  \n",
            "332              8.0                 8.0             1.0  \n",
            "333              9.0                 9.0             0.0  \n",
            "\n",
            "[334 rows x 15 columns]\n"
          ]
        }
      ]
    },
    {
      "cell_type": "code",
      "source": [
        "y=d['Patient_Status']\n",
        "print(y)"
      ],
      "metadata": {
        "colab": {
          "base_uri": "https://localhost:8080/"
        },
        "id": "VBjPtIYU6d88",
        "outputId": "ac8f066f-0b8d-4b04-88a3-822ca912869f"
      },
      "execution_count": 3,
      "outputs": [
        {
          "output_type": "stream",
          "name": "stdout",
          "text": [
            "0      1.0\n",
            "1      0.0\n",
            "2      1.0\n",
            "3      1.0\n",
            "4      1.0\n",
            "      ... \n",
            "329    1.0\n",
            "330    1.0\n",
            "331    0.0\n",
            "332    1.0\n",
            "333    0.0\n",
            "Name: Patient_Status, Length: 334, dtype: float64\n"
          ]
        }
      ]
    },
    {
      "cell_type": "code",
      "source": [
        "x=d.drop('Patient_Status',axis=1)\n",
        "print(x)"
      ],
      "metadata": {
        "colab": {
          "base_uri": "https://localhost:8080/"
        },
        "id": "6P9UwCCk6i7X",
        "outputId": "ff80272e-d986-4a14-92e1-44d1b4ef2be6"
      },
      "execution_count": 4,
      "outputs": [
        {
          "output_type": "stream",
          "name": "stdout",
          "text": [
            "     Age  Gender  Protein1  Protein2  Protein3  Protein4  Tumour_Stage  \\\n",
            "0     42       0  0.952560   2.15000  0.007972 -0.048340             2   \n",
            "1     54       0  0.000000   1.38020 -0.498030 -0.507320             2   \n",
            "2     63       0 -0.523030   1.76400 -0.370190  0.010815             2   \n",
            "3     78       0 -0.876180   0.12943 -0.370380  0.132190             1   \n",
            "4     42       0  0.226110   1.74910 -0.543970 -0.390210             2   \n",
            "..   ...     ...       ...       ...       ...       ...           ...   \n",
            "329   59       0  0.024598   1.40050  0.024751  0.280320             2   \n",
            "330   41       0  0.100120  -0.46547  0.472370 -0.523870             1   \n",
            "331   54       0  0.753820   1.64250 -0.332850  0.857860             2   \n",
            "332   74       0  0.972510   1.42680 -0.366570 -0.107820             2   \n",
            "333   66       0  0.286380   1.39980  0.318830  0.836050             2   \n",
            "\n",
            "     Histology  ER status  PR status  HER2 status  Surgery_type  \\\n",
            "0            0          1          1            0             0   \n",
            "1            0          1          1            0             0   \n",
            "2            0          1          1            0             1   \n",
            "3            0          1          1            0             0   \n",
            "4            0          1          1            1             1   \n",
            "..         ...        ...        ...          ...           ...   \n",
            "329          0          1          1            1             1   \n",
            "330          0          1          1            1             2   \n",
            "331          0          1          1            0             3   \n",
            "332          1          1          1            0             1   \n",
            "333          0          1          1            0             2   \n",
            "\n",
            "     Date_of_Surgery  Date_of_Last_Visit  \n",
            "0                0.0                 0.0  \n",
            "1                1.0                 1.0  \n",
            "2                2.0                 2.0  \n",
            "3                3.0                 3.0  \n",
            "4                4.0                 4.0  \n",
            "..               ...                 ...  \n",
            "329              5.0                 5.0  \n",
            "330              6.0                 6.0  \n",
            "331              7.0                 7.0  \n",
            "332              8.0                 8.0  \n",
            "333              9.0                 9.0  \n",
            "\n",
            "[334 rows x 14 columns]\n"
          ]
        }
      ]
    },
    {
      "cell_type": "code",
      "source": [
        "x.fillna(x.mean(),inplace=True)"
      ],
      "metadata": {
        "id": "Lw-Hx0ev6k1P"
      },
      "execution_count": 5,
      "outputs": []
    },
    {
      "cell_type": "code",
      "source": [
        "x.isna().sum()"
      ],
      "metadata": {
        "colab": {
          "base_uri": "https://localhost:8080/",
          "height": 523
        },
        "id": "Ex-ti8Lu6pTK",
        "outputId": "5c5c91af-509b-4832-8e1a-5c8fe4cdd694"
      },
      "execution_count": 6,
      "outputs": [
        {
          "output_type": "execute_result",
          "data": {
            "text/plain": [
              "Age                   0\n",
              "Gender                0\n",
              "Protein1              0\n",
              "Protein2              0\n",
              "Protein3              0\n",
              "Protein4              0\n",
              "Tumour_Stage          0\n",
              "Histology             0\n",
              "ER status             0\n",
              "PR status             0\n",
              "HER2 status           0\n",
              "Surgery_type          0\n",
              "Date_of_Surgery       0\n",
              "Date_of_Last_Visit    0\n",
              "dtype: int64"
            ],
            "text/html": [
              "<div>\n",
              "<style scoped>\n",
              "    .dataframe tbody tr th:only-of-type {\n",
              "        vertical-align: middle;\n",
              "    }\n",
              "\n",
              "    .dataframe tbody tr th {\n",
              "        vertical-align: top;\n",
              "    }\n",
              "\n",
              "    .dataframe thead th {\n",
              "        text-align: right;\n",
              "    }\n",
              "</style>\n",
              "<table border=\"1\" class=\"dataframe\">\n",
              "  <thead>\n",
              "    <tr style=\"text-align: right;\">\n",
              "      <th></th>\n",
              "      <th>0</th>\n",
              "    </tr>\n",
              "  </thead>\n",
              "  <tbody>\n",
              "    <tr>\n",
              "      <th>Age</th>\n",
              "      <td>0</td>\n",
              "    </tr>\n",
              "    <tr>\n",
              "      <th>Gender</th>\n",
              "      <td>0</td>\n",
              "    </tr>\n",
              "    <tr>\n",
              "      <th>Protein1</th>\n",
              "      <td>0</td>\n",
              "    </tr>\n",
              "    <tr>\n",
              "      <th>Protein2</th>\n",
              "      <td>0</td>\n",
              "    </tr>\n",
              "    <tr>\n",
              "      <th>Protein3</th>\n",
              "      <td>0</td>\n",
              "    </tr>\n",
              "    <tr>\n",
              "      <th>Protein4</th>\n",
              "      <td>0</td>\n",
              "    </tr>\n",
              "    <tr>\n",
              "      <th>Tumour_Stage</th>\n",
              "      <td>0</td>\n",
              "    </tr>\n",
              "    <tr>\n",
              "      <th>Histology</th>\n",
              "      <td>0</td>\n",
              "    </tr>\n",
              "    <tr>\n",
              "      <th>ER status</th>\n",
              "      <td>0</td>\n",
              "    </tr>\n",
              "    <tr>\n",
              "      <th>PR status</th>\n",
              "      <td>0</td>\n",
              "    </tr>\n",
              "    <tr>\n",
              "      <th>HER2 status</th>\n",
              "      <td>0</td>\n",
              "    </tr>\n",
              "    <tr>\n",
              "      <th>Surgery_type</th>\n",
              "      <td>0</td>\n",
              "    </tr>\n",
              "    <tr>\n",
              "      <th>Date_of_Surgery</th>\n",
              "      <td>0</td>\n",
              "    </tr>\n",
              "    <tr>\n",
              "      <th>Date_of_Last_Visit</th>\n",
              "      <td>0</td>\n",
              "    </tr>\n",
              "  </tbody>\n",
              "</table>\n",
              "</div><br><label><b>dtype:</b> int64</label>"
            ]
          },
          "metadata": {},
          "execution_count": 6
        }
      ]
    },
    {
      "cell_type": "code",
      "source": [
        "y.isna().sum()"
      ],
      "metadata": {
        "colab": {
          "base_uri": "https://localhost:8080/"
        },
        "id": "ZgRC90ta6rA5",
        "outputId": "1d4f39a2-e543-4ea3-83b5-bf70033ea9b5"
      },
      "execution_count": 7,
      "outputs": [
        {
          "output_type": "execute_result",
          "data": {
            "text/plain": [
              "13"
            ]
          },
          "metadata": {},
          "execution_count": 7
        }
      ]
    },
    {
      "cell_type": "code",
      "source": [
        "y.fillna(y.mean(),inplace=True)"
      ],
      "metadata": {
        "id": "iob6biH-6tra"
      },
      "execution_count": 8,
      "outputs": []
    },
    {
      "cell_type": "code",
      "source": [
        "y=y.astype(int)"
      ],
      "metadata": {
        "id": "ChzLNWaM6v4i"
      },
      "execution_count": 9,
      "outputs": []
    },
    {
      "cell_type": "code",
      "source": [
        "from sklearn.model_selection import train_test_split\n",
        "x_train,x_test,y_train,y_test=train_test_split(x,y,test_size=0.2,random_state=42)"
      ],
      "metadata": {
        "id": "Yl8ZhKu_6x1-"
      },
      "execution_count": 10,
      "outputs": []
    },
    {
      "cell_type": "code",
      "source": [
        "!pip install matplotlib\n",
        "from sklearn.model_selection import train_test_split\n",
        "from sklearn.neighbors import KNeighborsClassifier\n",
        "from sklearn.metrics import accuracy_score\n",
        "import matplotlib.pyplot as plt\n",
        "\n",
        "knn = KNeighborsClassifier(n_neighbors=5)\n",
        "knn.fit(x_train, y_train)\n",
        "\n",
        "y_pred = knn.predict(x_test)\n",
        "\n",
        "accuracy = accuracy_score(y_test, y_pred)\n",
        "print(accuracy)\n",
        "\n",
        "plt.figure(figsize=(6, 4))\n",
        "plt.bar(['Accuracy'], [accuracy])\n",
        "plt.title('Model Accuracy')\n",
        "plt.ylabel('Accuracy Score')\n",
        "plt.ylim(0, 1)\n",
        "plt.show()"
      ],
      "metadata": {
        "colab": {
          "base_uri": "https://localhost:8080/",
          "height": 619
        },
        "id": "lxCdW8TE9xhl",
        "outputId": "10e545ad-64c1-46ab-d54d-5ce81fa12533"
      },
      "execution_count": 14,
      "outputs": [
        {
          "output_type": "stream",
          "name": "stdout",
          "text": [
            "Requirement already satisfied: matplotlib in /usr/local/lib/python3.10/dist-packages (3.8.0)\n",
            "Requirement already satisfied: contourpy>=1.0.1 in /usr/local/lib/python3.10/dist-packages (from matplotlib) (1.3.0)\n",
            "Requirement already satisfied: cycler>=0.10 in /usr/local/lib/python3.10/dist-packages (from matplotlib) (0.12.1)\n",
            "Requirement already satisfied: fonttools>=4.22.0 in /usr/local/lib/python3.10/dist-packages (from matplotlib) (4.54.1)\n",
            "Requirement already satisfied: kiwisolver>=1.0.1 in /usr/local/lib/python3.10/dist-packages (from matplotlib) (1.4.7)\n",
            "Requirement already satisfied: numpy<2,>=1.21 in /usr/local/lib/python3.10/dist-packages (from matplotlib) (1.26.4)\n",
            "Requirement already satisfied: packaging>=20.0 in /usr/local/lib/python3.10/dist-packages (from matplotlib) (24.2)\n",
            "Requirement already satisfied: pillow>=6.2.0 in /usr/local/lib/python3.10/dist-packages (from matplotlib) (11.0.0)\n",
            "Requirement already satisfied: pyparsing>=2.3.1 in /usr/local/lib/python3.10/dist-packages (from matplotlib) (3.2.0)\n",
            "Requirement already satisfied: python-dateutil>=2.7 in /usr/local/lib/python3.10/dist-packages (from matplotlib) (2.8.2)\n",
            "Requirement already satisfied: six>=1.5 in /usr/local/lib/python3.10/dist-packages (from python-dateutil>=2.7->matplotlib) (1.16.0)\n",
            "0.7313432835820896\n"
          ]
        },
        {
          "output_type": "display_data",
          "data": {
            "text/plain": [
              "<Figure size 600x400 with 1 Axes>"
            ],
            "image/png": "[encoded data removed]"
          },
          "metadata": {}
        }
      ]
    },
    {
      "cell_type": "code",
      "source": [
        "!pip install scikit-learn pandas matplotlib\n",
        "import pandas as pd\n",
        "from sklearn.cluster import KMeans\n",
        "import matplotlib.pyplot as plt\n",
        "wcss = []\n",
        "for i in range(1, 11):\n",
        "    kmeans = KMeans(n_clusters=i, random_state=42)\n",
        "    kmeans.fit(x)\n",
        "    wcss.append(kmeans.inertia_)\n",
        "plt.plot(range(1, 11), wcss)\n",
        "plt.title('Elbow Method')\n",
        "plt.xlabel('Number of Clusters (k)')\n",
        "plt.ylabel('WCSS')\n",
        "plt.show()\n",
        "\n",
        "k = 3\n",
        "\n",
        "kmeans = KMeans(n_clusters=k, random_state=42)\n",
        "df = x.copy()\n",
        "df['cluster'] = kmeans.fit_predict(x)\n",
        "if x.shape[1] in (2, 3):\n",
        "    plt.scatter(x.iloc[:, 0], x.iloc[:, 1], c=df['cluster'], cmap='viridis')\n",
        "    plt.title('K-means Clustering')\n",
        "    plt.xlabel(x.columns[0])\n",
        "    plt.ylabel(x.columns[1])\n",
        "    plt.show()\n",
        "\n",
        "print(\"Cluster Centers:\")\n",
        "print(kmeans.cluster_centers_)"
      ],
      "metadata": {
        "colab": {
          "base_uri": "https://localhost:8080/",
          "height": 1000
        },
        "id": "-XQwod5J7A_Z",
        "outputId": "cabf34bb-dcbb-4e9c-c1b0-5542319cd394"
      },
      "execution_count": 15,
      "outputs": [
        {
          "output_type": "stream",
          "name": "stdout",
          "text": [
            "Requirement already satisfied: scikit-learn in /usr/local/lib/python3.10/dist-packages (1.5.2)\n",
            "Requirement already satisfied: pandas in /usr/local/lib/python3.10/dist-packages (2.2.2)\n",
            "Requirement already satisfied: matplotlib in /usr/local/lib/python3.10/dist-packages (3.8.0)\n",
            "Requirement already satisfied: numpy>=1.19.5 in /usr/local/lib/python3.10/dist-packages (from scikit-learn) (1.26.4)\n",
            "Requirement already satisfied: scipy>=1.6.0 in /usr/local/lib/python3.10/dist-packages (from scikit-learn) (1.13.1)\n",
            "Requirement already satisfied: joblib>=1.2.0 in /usr/local/lib/python3.10/dist-packages (from scikit-learn) (1.4.2)\n",
            "Requirement already satisfied: threadpoolctl>=3.1.0 in /usr/local/lib/python3.10/dist-packages (from scikit-learn) (3.5.0)\n",
            "Requirement already satisfied: python-dateutil>=2.8.2 in /usr/local/lib/python3.10/dist-packages (from pandas) (2.8.2)\n",
            "Requirement already satisfied: pytz>=2020.1 in /usr/local/lib/python3.10/dist-packages (from pandas) (2024.2)\n",
            "Requirement already satisfied: tzdata>=2022.7 in /usr/local/lib/python3.10/dist-packages (from pandas) (2024.2)\n",
            "Requirement already satisfied: contourpy>=1.0.1 in /usr/local/lib/python3.10/dist-packages (from matplotlib) (1.3.0)\n",
            "Requirement already satisfied: cycler>=0.10 in /usr/local/lib/python3.10/dist-packages (from matplotlib) (0.12.1)\n",
            "Requirement already satisfied: fonttools>=4.22.0 in /usr/local/lib/python3.10/dist-packages (from matplotlib) (4.54.1)\n",
            "Requirement already satisfied: kiwisolver>=1.0.1 in /usr/local/lib/python3.10/dist-packages (from matplotlib) (1.4.7)\n",
            "Requirement already satisfied: packaging>=20.0 in /usr/local/lib/python3.10/dist-packages (from matplotlib) (24.2)\n",
            "Requirement already satisfied: pillow>=6.2.0 in /usr/local/lib/python3.10/dist-packages (from matplotlib) (11.0.0)\n",
            "Requirement already satisfied: pyparsing>=2.3.1 in /usr/local/lib/python3.10/dist-packages (from matplotlib) (3.2.0)\n",
            "Requirement already satisfied: six>=1.5 in /usr/local/lib/python3.10/dist-packages (from python-dateutil>=2.8.2->pandas) (1.16.0)\n"
          ]
        },
        {
          "output_type": "display_data",
          "data": {
            "text/plain": [
              "<Figure size 640x480 with 1 Axes>"
            ],
            "image/png": "[encoded data removed]"
          },
          "metadata": {}
        },
        {
          "output_type": "stream",
          "name": "stdout",
          "text": [
            "Cluster Centers:\n",
            "[[ 6.17120000e+01  8.00000000e-03 -1.52906880e-02  9.90108104e-01\n",
            "  -1.22924582e-01  4.84910957e-02  2.00000000e+00  2.88000000e-01\n",
            "   1.00000000e+00  1.00000000e+00  6.40000000e-02  1.26400000e+00\n",
            "   5.00000000e+00  4.60133333e+00]\n",
            " [ 4.67642857e+01  1.42857143e-02 -1.98531204e-02  9.51350329e-01\n",
            "  -3.72439800e-02 -6.37867950e-02  2.17142857e+00  4.00000000e-01\n",
            "   1.00000000e+00  1.00000000e+00  1.07142857e-01  1.50714286e+00\n",
            "   4.92142857e+00  4.55416667e+00]\n",
            " [ 7.83623188e+01  1.44927536e-02 -7.71926377e-02  8.59576319e-01\n",
            "  -1.38382577e-01  8.91077188e-02  1.89855072e+00  3.04347826e-01\n",
            "   1.00000000e+00  1.00000000e+00  8.69565217e-02  1.30434783e+00\n",
            "   5.15942029e+00  4.60990338e+00]]\n"
          ]
        }
      ]
    },
    {
      "cell_type": "code",
      "source": [],
      "metadata": {
        "id": "lSm1m_qq7gPN"
      },
      "execution_count": null,
      "outputs": []
    }
  ]
}